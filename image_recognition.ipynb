{
 "cells": [
  {
   "cell_type": "code",
   "execution_count": 1,
   "metadata": {
    "id": "ur8xi4C7S06n"
   },
   "outputs": [],
   "source": [
    "# Copyright 2021 Google LLC\n",
    "#\n",
    "# Licensed under the Apache License, Version 2.0 (the \"License\");\n",
    "# you may not use this file except in compliance with the License.\n",
    "# You may obtain a copy of the License at\n",
    "#\n",
    "#     https://www.apache.org/licenses/LICENSE-2.0\n",
    "#\n",
    "# Unless required by applicable law or agreed to in writing, software\n",
    "# distributed under the License is distributed on an \"AS IS\" BASIS,\n",
    "# WITHOUT WARRANTIES OR CONDITIONS OF ANY KIND, either express or implied.\n",
    "# See the License for the specific language governing permissions and\n",
    "# limitations under the License."
   ]
  },
  {
   "cell_type": "markdown",
   "metadata": {
    "id": "JAPoU8Sm5E6e"
   },
   "source": [
    "<table align=\"left\">\n",
    "\n",
    "  <td>\n",
    "    <a href=\"https://colab.research.google.com/github/GoogleCloudPlatform/vertex-ai-samples/blob/master/notebooks/official/pipelines/google-cloud-pipeline-components_automl_images.ipynb\">\n",
    "      <img src=\"https://cloud.google.com/ml-engine/images/colab-logo-32px.png\" alt=\"Colab logo\"> Run in Colab\n",
    "    </a>\n",
    "  </td>\n",
    "  <td>\n",
    "    <a href=\"https://github.com/GoogleCloudPlatform/vertex-ai-samples/blob/master/notebooks/official/pipelines/google-cloud-pipeline-components_automl_images.ipynb\">\n",
    "      <img src=\"https://cloud.google.com/ml-engine/images/github-logo-32px.png\" alt=\"GitHub logo\">\n",
    "      View on GitHub\n",
    "    </a>\n",
    "  </td>\n",
    "  <td>\n",
    "    <a href=\"https://console.cloud.google.com/ai/platform/notebooks/deploy-notebook?download_url=https://github.com/GoogleCloudPlatform/vertex-ai-samples/raw/master/notebooks/official/pipelines/google-cloud-pipeline-components_automl_images.ipynb\">\n",
    "      Open in Google Cloud Notebooks\n",
    "    </a>\n",
    "  </td>    \n",
    "</table>"
   ]
  },
  {
   "cell_type": "markdown",
   "metadata": {
    "id": "zZux4nir8gRo",
    "tags": []
   },
   "source": [
    "# Vertex Pipelines: AutoML Images pipelines using google-cloud-pipeline-components\n"
   ]
  },
  {
   "cell_type": "markdown",
   "metadata": {},
   "source": [
    "## Reach out to \n",
    "@Saurabhmangal if needed."
   ]
  },
  {
   "cell_type": "markdown",
   "metadata": {
    "id": "tvgnzT1CKxrO"
   },
   "source": [
    "## Overview\n",
    "\n",
    "This notebook shows how to use the components defined in [`google_cloud_pipeline_components`](https://github.com/kubeflow/pipelines/tree/master/components/google-cloud) to build an AutoML Images workflow on [Vertex Pipelines](https://cloud.google.com/vertex-ai/docs/pipelines).\n",
    "\n",
    "### Objective\n",
    "\n",
    "In this example, you'll learn how to use components from `google_cloud_pipeline_components` to:\n",
    "- create a _Dataset_\n",
    "- train an AutoML Images model\n",
    "- train a Custom ML model\n",
    "- deploy the trained model to an _endpoint_ for serving\n",
    "- deploy a batch prediction job for a subset of images\n",
    "\n",
    "The components are [documented here](https://google-cloud-pipeline-components.readthedocs.io/en/latest/google_cloud_pipeline_components.aiplatform.html#module-google_cloud_pipeline_components.aiplatform).\n",
    "\n",
    "### Costs \n",
    "\n",
    "This tutorial uses billable components of Google Cloud:\n",
    "\n",
    "* Vertex AI Training and Serving\n",
    "* Cloud Storage\n",
    "\n",
    "Learn about pricing for [Vertex AI](https://cloud.google.com/vertex-ai/pricing) and [Cloud Storage](https://cloud.google.com/storage/pricing), and use the [Pricing\n",
    "Calculator](https://cloud.google.com/products/calculator/)\n",
    "to generate a cost estimate based on your projected usage."
   ]
  },
  {
   "cell_type": "markdown",
   "metadata": {
    "id": "ze4-nDLfK4pw"
   },
   "source": [
    "### Set up your local development environment\n",
    "\n",
    "**If you are using Colab or Google Cloud Notebooks**, your environment already meets\n",
    "all the requirements to run this notebook. You can skip this step."
   ]
  },
  {
   "cell_type": "markdown",
   "metadata": {
    "id": "gCuSR8GkAgzl"
   },
   "source": [
    "**Otherwise**, make sure your environment meets this notebook's requirements.\n",
    "You need the following:\n",
    "\n",
    "* The Google Cloud SDK\n",
    "* Git\n",
    "* Python 3\n",
    "* virtualenv\n",
    "* Jupyter notebook running in a virtual environment with Python 3\n",
    "\n",
    "The Google Cloud guide to [Setting up a Python development\n",
    "environment](https://cloud.google.com/python/setup) and the [Jupyter\n",
    "installation guide](https://jupyter.org/install) provide detailed instructions\n",
    "for meeting these requirements. The following steps provide a condensed set of\n",
    "instructions:\n",
    "\n",
    "1. [Install and initialize the Cloud SDK.](https://cloud.google.com/sdk/docs/)\n",
    "\n",
    "1. [Install Python 3.](https://cloud.google.com/python/setup#installing_python)\n",
    "\n",
    "1. [Install\n",
    "   virtualenv](https://cloud.google.com/python/setup#installing_and_using_virtualenv)\n",
    "   and create a virtual environment that uses Python 3. Activate the virtual environment.\n",
    "\n",
    "1. To install Jupyter, run `pip install jupyter` on the\n",
    "command-line in a terminal shell.\n",
    "\n",
    "1. To launch Jupyter, run `jupyter notebook` on the command-line in a terminal shell.\n",
    "\n",
    "1. Open this notebook in the Jupyter Notebook Dashboard."
   ]
  },
  {
   "cell_type": "markdown",
   "metadata": {
    "id": "i7EUnXsZhAGF"
   },
   "source": [
    "### Install additional packages\n"
   ]
  },
  {
   "cell_type": "code",
   "execution_count": 15,
   "metadata": {
    "id": "IaYsrh0Tc17L"
   },
   "outputs": [],
   "source": [
    "import os\n",
    "\n",
    "# The Google Cloud Notebook product has specific requirements\n",
    "IS_GOOGLE_CLOUD_NOTEBOOK = os.path.exists(\"/opt/deeplearning/metadata/env_version\")\n",
    "\n",
    "# Google Cloud Notebook requires dependencies to be installed with '--user'\n",
    "USER_FLAG = \"\"\n",
    "if IS_GOOGLE_CLOUD_NOTEBOOK:\n",
    "    USER_FLAG = \"--user\""
   ]
  },
  {
   "cell_type": "code",
   "execution_count": 16,
   "metadata": {
    "id": "yxtzwPPNZ-SH"
   },
   "outputs": [],
   "source": [
    "! pip install --quiet {USER_FLAG} google-cloud-aiplatform --upgrade"
   ]
  },
  {
   "cell_type": "code",
   "execution_count": 17,
   "metadata": {},
   "outputs": [],
   "source": [
    "! pip install --quiet {USER_FLAG} kfp google-cloud-pipeline-components --upgrade"
   ]
  },
  {
   "cell_type": "markdown",
   "metadata": {
    "id": "hhq5zEbGg0XX"
   },
   "source": [
    "### Restart the kernel\n",
    "\n",
    "After you install the additional packages, you need to restart the notebook kernel so it can find the packages."
   ]
  },
  {
   "cell_type": "code",
   "execution_count": 5,
   "metadata": {
    "id": "EzrelQZ22IZj"
   },
   "outputs": [],
   "source": [
    "# Automatically restart kernel after installs\n",
    "import os\n",
    "\n",
    "if not os.getenv(\"IS_TESTING\") or True:\n",
    "    # Automatically restart kernel after installs\n",
    "    import IPython\n",
    "\n",
    "    app = IPython.Application.instance()\n",
    "    app.kernel.do_shutdown(True)"
   ]
  },
  {
   "cell_type": "markdown",
   "metadata": {
    "id": "6GPgNN7eeX1l"
   },
   "source": [
    "Check the versions of the packages you installed.  The KFP SDK version should be >=1.6."
   ]
  },
  {
   "cell_type": "code",
   "execution_count": 18,
   "metadata": {
    "id": "NN0mULkEeb84"
   },
   "outputs": [
    {
     "name": "stdout",
     "output_type": "stream",
     "text": [
      "KFP SDK version: 1.8.12\n"
     ]
    }
   ],
   "source": [
    "!python3 -c \"import kfp; print('KFP SDK version: {}'.format(kfp.__version__))\""
   ]
  },
  {
   "cell_type": "markdown",
   "metadata": {
    "id": "lWEdiXsJg0XY"
   },
   "source": [
    "## Before you begin\n",
    "\n",
    "This notebook does not require a GPU runtime."
   ]
  },
  {
   "cell_type": "markdown",
   "metadata": {
    "id": "6EMvLDQYmBfI"
   },
   "source": [
    "### Set up your Google Cloud project\n",
    "\n",
    "**The following steps are required, regardless of your notebook environment.**\n",
    "\n",
    "1. [Select or create a Google Cloud project](https://console.cloud.google.com/cloud-resource-manager). When you first create an account, you get a $300 free credit towards your compute/storage costs.\n",
    "\n",
    "1. [Make sure that billing is enabled for your project](https://cloud.google.com/billing/docs/how-to/modify-project).\n",
    "\n",
    "1. [Enable the Vertex AI, Cloud Storage, and Compute Engine APIs](https://console.cloud.google.com/flows/enableapi?apiid=aiplatform.googleapis.com,compute_component,storage-component.googleapis.com). \n",
    "\n",
    "1. Follow the \"**Configuring your project**\" instructions from the Vertex Pipelines documentation.\n",
    "\n",
    "1. If you are running this notebook locally, you will need to install the [Cloud SDK](https://cloud.google.com/sdk).\n",
    "\n",
    "1. Enter your project ID in the cell below. Then run the cell to make sure the\n",
    "Cloud SDK uses the right project for all the commands in this notebook.\n",
    "\n",
    "**Note**: Jupyter runs lines prefixed with `!` as shell commands, and it interpolates Python variables prefixed with `$` into these commands."
   ]
  },
  {
   "cell_type": "markdown",
   "metadata": {
    "id": "WReHDGG5g0XY"
   },
   "source": [
    "#### Set your project ID\n",
    "\n",
    "**If you don't know your project ID**, you may be able to get your project ID using `gcloud`."
   ]
  },
  {
   "cell_type": "code",
   "execution_count": 19,
   "metadata": {
    "id": "oM1iC_MfAts1"
   },
   "outputs": [
    {
     "name": "stdout",
     "output_type": "stream",
     "text": [
      "Project ID:  veretxai-demo-ce-apac\n"
     ]
    }
   ],
   "source": [
    "import os\n",
    "\n",
    "PROJECT_ID = \"veretxai-demo-ce-apac\" # <-- CHANGE THIS in customer setting\n",
    "\n",
    "# Get your Google Cloud project ID from gcloud\n",
    "if not os.getenv(\"IS_TESTING\"):\n",
    "    shell_output=!gcloud config list --format 'value(core.project)' 2>/dev/null\n",
    "    PROJECT_ID = shell_output[0]\n",
    "    print(\"Project ID: \", PROJECT_ID)\n"
   ]
  },
  {
   "cell_type": "markdown",
   "metadata": {
    "id": "qJYoRfYng0XZ"
   },
   "source": [
    "Otherwise, set your project ID here."
   ]
  },
  {
   "cell_type": "code",
   "execution_count": 8,
   "metadata": {
    "id": "riG_qUokg0XZ"
   },
   "outputs": [],
   "source": [
    "if PROJECT_ID == \"\" or PROJECT_ID is None:\n",
    "    PROJECT_ID = \"python-docs-samples-tests\"  # @param {type:\"string\"}"
   ]
  },
  {
   "cell_type": "markdown",
   "metadata": {
    "id": "06571eb4063b"
   },
   "source": [
    "#### Timestamp\n",
    "\n",
    "If you are in a live tutorial session, you might be using a shared test account or project. To avoid name collisions between users on resources created, you create a timestamp for each instance session, and append it onto the name of resources you create in this tutorial."
   ]
  },
  {
   "cell_type": "code",
   "execution_count": 20,
   "metadata": {
    "id": "697568e92bd6"
   },
   "outputs": [],
   "source": [
    "from datetime import datetime\n",
    "\n",
    "TIMESTAMP = datetime.now().strftime(\"%Y%m%d%H%M%S\")"
   ]
  },
  {
   "cell_type": "markdown",
   "metadata": {
    "id": "dr--iN2kAylZ"
   },
   "source": [
    "### Authenticate your Google Cloud account\n",
    "\n",
    "**If you are using Google Cloud Notebooks**, your environment is already\n",
    "authenticated. Skip this step."
   ]
  },
  {
   "cell_type": "markdown",
   "metadata": {
    "id": "sBCra4QMA2wR"
   },
   "source": [
    "**If you are using Colab**, run the cell below and follow the instructions\n",
    "when prompted to authenticate your account via oAuth.\n",
    "\n",
    "**Otherwise**, follow these steps:\n",
    "\n",
    "1. In the Cloud Console, go to the [**Create service account key**\n",
    "   page](https://console.cloud.google.com/apis/credentials/serviceaccountkey).\n",
    "\n",
    "2. Click **Create service account**.\n",
    "\n",
    "3. In the **Service account name** field, enter a name, and\n",
    "   click **Create**.\n",
    "\n",
    "4. In the **Grant this service account access to project** section, click the **Role** drop-down list. Type \"Vertex AI\"\n",
    "into the filter box, and select\n",
    "   **Vertex AI Administrator**. Type \"Storage Object Admin\" into the filter box, and select **Storage Object Admin**.\n",
    "\n",
    "5. Click *Create*. A JSON file that contains your key downloads to your\n",
    "local environment.\n",
    "\n",
    "6. Enter the path to your service account key as the\n",
    "`GOOGLE_APPLICATION_CREDENTIALS` variable in the cell below and run the cell."
   ]
  },
  {
   "cell_type": "code",
   "execution_count": 21,
   "metadata": {
    "id": "PyQmSRbKA8r-"
   },
   "outputs": [],
   "source": [
    "import os\n",
    "import sys\n",
    "\n",
    "# If you are running this notebook in Colab, run this cell and follow the\n",
    "# instructions to authenticate your GCP account. This provides access to your\n",
    "# Cloud Storage bucket and lets you submit training jobs and prediction\n",
    "# requests.\n",
    "\n",
    "# The Google Cloud Notebook product has specific requirements\n",
    "IS_GOOGLE_CLOUD_NOTEBOOK = os.path.exists(\"/opt/deeplearning/metadata/env_version\")\n",
    "\n",
    "# If on Google Cloud Notebooks, then don't execute this code\n",
    "if not IS_GOOGLE_CLOUD_NOTEBOOK:\n",
    "    if \"google.colab\" in sys.modules:\n",
    "        from google.colab import auth as google_auth\n",
    "\n",
    "        google_auth.authenticate_user()\n",
    "\n",
    "    # If you are running this notebook locally, replace the string below with the\n",
    "    # path to your service account key and run this cell to authenticate your GCP\n",
    "    # account.\n",
    "    elif not os.getenv(\"IS_TESTING\"):\n",
    "        %env GOOGLE_APPLICATION_CREDENTIALS ''"
   ]
  },
  {
   "cell_type": "markdown",
   "metadata": {
    "id": "NxhCPW6e46EF"
   },
   "source": [
    "### Create a Cloud Storage bucket as necessary\n",
    "\n",
    "You need a Cloud Storage bucket for this example.  If you don't have one that you want to use, you can make one now.\n",
    "\n",
    "\n",
    "Set the name of your Cloud Storage bucket below. It must be unique across all\n",
    "Cloud Storage buckets.\n",
    "\n",
    "You can also change the `REGION` variable, which is used for operations\n",
    "throughout the rest of this notebook. Make sure to [choose a region where Vertex AI services are\n",
    "available](https://cloud.google.com/vertex-ai/docs/general/locations#available_regions). You may\n",
    "not use a Multi-Regional Storage bucket for training with Vertex Pipelines."
   ]
  },
  {
   "cell_type": "code",
   "execution_count": 1,
   "metadata": {
    "id": "MzGDU7TWdts_"
   },
   "outputs": [],
   "source": [
    "BUCKET_NAME = \"gs://veretxai_image_recognition\"  # @param {type:\"string\"} # <-- CHANGE THIS\n",
    "REGION = \"us-central1\"  # @param {type:\"string\"}"
   ]
  },
  {
   "cell_type": "code",
   "execution_count": 2,
   "metadata": {
    "id": "cf221059d072"
   },
   "outputs": [],
   "source": [
    "if BUCKET_NAME == \"\" or BUCKET_NAME is None or BUCKET_NAME == \"gs://[your-bucket-name]\":\n",
    "    BUCKET_NAME = \"gs://\" + PROJECT_ID + \"aip-\" + TIMESTAMP"
   ]
  },
  {
   "cell_type": "markdown",
   "metadata": {
    "id": "-EcIXiGsCePi"
   },
   "source": [
    "**Only if your bucket doesn't already exist**: Run the following cell to create your Cloud Storage bucket."
   ]
  },
  {
   "cell_type": "code",
   "execution_count": 3,
   "metadata": {
    "id": "NIq7R4HZCfIc"
   },
   "outputs": [],
   "source": [
    "# !gsutil mb -l $REGION $BUCKET_NAME"
   ]
  },
  {
   "cell_type": "markdown",
   "metadata": {
    "id": "ucvCsknMCims"
   },
   "source": [
    "Finally, validate access to your Cloud Storage bucket by examining its contents:"
   ]
  },
  {
   "cell_type": "code",
   "execution_count": 4,
   "metadata": {
    "id": "vhOb7YnwClBb"
   },
   "outputs": [
    {
     "name": "stdout",
     "output_type": "stream",
     "text": [
      "      3398  2022-06-17T01:12:06Z  gs://veretxai_image_recognition/auto_ml_prediction_images.jsonl#1655428326683248  metageneration=1\n",
      "      2291  2022-06-17T01:12:11Z  gs://veretxai_image_recognition/custom_ml_prediction_images.txt#1655428331978491  metageneration=1\n",
      "                                 gs://veretxai_image_recognition/batch_prediction_dataset/\n",
      "                                 gs://veretxai_image_recognition/pipeline_root/\n",
      "TOTAL: 2 objects, 5689 bytes (5.56 KiB)\n"
     ]
    }
   ],
   "source": [
    "!gsutil ls -al $BUCKET_NAME"
   ]
  },
  {
   "cell_type": "markdown",
   "metadata": {
    "id": "XoEqT2Y4DJmf"
   },
   "source": [
    "### Import libraries and define constants"
   ]
  },
  {
   "cell_type": "markdown",
   "metadata": {
    "id": "YYtGjGG45ELJ"
   },
   "source": [
    "Define some constants. \n"
   ]
  },
  {
   "cell_type": "code",
   "execution_count": 5,
   "metadata": {
    "id": "5zmD19ryCre7"
   },
   "outputs": [
    {
     "name": "stdout",
     "output_type": "stream",
     "text": [
      "env: PATH=/usr/local/cuda/bin:/opt/conda/bin:/opt/conda/condabin:/usr/local/bin:/usr/bin:/bin:/usr/local/games:/usr/games:/home/jupyter/.local/bin\n"
     ]
    },
    {
     "data": {
      "text/plain": [
       "'gs://veretxai_image_recognition/pipeline_root/saurabhmangal'"
      ]
     },
     "execution_count": 5,
     "metadata": {},
     "output_type": "execute_result"
    }
   ],
   "source": [
    "PATH=%env PATH\n",
    "%env PATH={PATH}:/home/jupyter/.local/bin\n",
    "\n",
    "USER = \"saurabhmangal\"  # <---CHANGE THIS\n",
    "PIPELINE_ROOT = \"{}/pipeline_root/{}\".format(BUCKET_NAME, USER)\n",
    "\n",
    "PIPELINE_ROOT"
   ]
  },
  {
   "cell_type": "markdown",
   "metadata": {
    "tags": []
   },
   "source": [
    "## Training Data"
   ]
  },
  {
   "cell_type": "code",
   "execution_count": 6,
   "metadata": {},
   "outputs": [
    {
     "name": "stdout",
     "output_type": "stream",
     "text": [
      "Copying gs://cloud-samples-data/vision/automl_classification/flowers/all_data_v2.csv...\n",
      "/ [1 files][289.2 KiB/289.2 KiB]                                                \n",
      "Operation completed over 1 objects/289.2 KiB.                                    \n"
     ]
    }
   ],
   "source": [
    "!gsutil cp gs://cloud-samples-data/vision/automl_classification/flowers/all_data_v2.csv ."
   ]
  },
  {
   "cell_type": "code",
   "execution_count": 7,
   "metadata": {},
   "outputs": [
    {
     "name": "stdout",
     "output_type": "stream",
     "text": [
      "gs://cloud-ml-data/img/flower_photos/daisy/100080576_f52e8ee070_n.jpg,daisy\n",
      "gs://cloud-ml-data/img/flower_photos/daisy/10140303196_b88d3d6cec.jpg,daisy\n",
      "gs://cloud-ml-data/img/flower_photos/daisy/10172379554_b296050f82_n.jpg,daisy\n",
      "gs://cloud-ml-data/img/flower_photos/daisy/10172567486_2748826a8b.jpg,daisy\n",
      "gs://cloud-ml-data/img/flower_photos/daisy/10172636503_21bededa75_n.jpg,daisy\n",
      "gs://cloud-ml-data/img/flower_photos/daisy/102841525_bd6628ae3c.jpg,daisy\n",
      "gs://cloud-ml-data/img/flower_photos/daisy/1031799732_e7f4008c03.jpg,daisy\n",
      "gs://cloud-ml-data/img/flower_photos/daisy/10391248763_1d16681106_n.jpg,daisy\n",
      "gs://cloud-ml-data/img/flower_photos/daisy/10437754174_22ec990b77_m.jpg,daisy\n",
      "gs://cloud-ml-data/img/flower_photos/daisy/10437770546_8bb6f7bdd3_m.jpg,daisy\n"
     ]
    }
   ],
   "source": [
    "!head all_data_v2.csv"
   ]
  },
  {
   "cell_type": "markdown",
   "metadata": {},
   "source": [
    "## Define the Custom Training Job"
   ]
  },
  {
   "cell_type": "code",
   "execution_count": 8,
   "metadata": {
    "id": "UFDUBveR5UfJ"
   },
   "outputs": [],
   "source": [
    "import kfp\n",
    "from google.cloud import aiplatform\n",
    "from google_cloud_pipeline_components import aiplatform as gcc_aip\n",
    "from kfp.v2 import compiler\n",
    "from kfp.v2.google.client import AIPlatformClient\n",
    "\n",
    "from google.cloud.aiplatform.utils import source_utils\n",
    "from typing import Callable, List"
   ]
  },
  {
   "cell_type": "code",
   "execution_count": 9,
   "metadata": {},
   "outputs": [
    {
     "name": "stdout",
     "output_type": "stream",
     "text": [
      "Overwriting task.py\n"
     ]
    }
   ],
   "source": [
    "%%writefile task.py\n",
    "import tensorflow_datasets as tfds\n",
    "import tensorflow as tf\n",
    "from tensorflow.python.client import device_lib\n",
    "import argparse\n",
    "import os\n",
    "import sys\n",
    "import json\n",
    "import tqdm\n",
    "from typing import List\n",
    "\n",
    "\n",
    "def str2bool(v):\n",
    "    if isinstance(v, bool):\n",
    "        return v\n",
    "    if v.lower() in (\"yes\", \"true\", \"t\", \"y\", \"1\"):\n",
    "        return True\n",
    "    elif v.lower() in (\"no\", \"false\", \"f\", \"n\", \"0\"):\n",
    "        return False\n",
    "    else:\n",
    "        raise argparse.ArgumentTypeError(\"Boolean value expected.\")\n",
    "\n",
    "\n",
    "def parse_args():\n",
    "    parser = argparse.ArgumentParser(description=\"Keras Image Classification\")\n",
    "    parser.add_argument(\n",
    "        \"--epochs\", default=10, type=int, help=\"number of training epochs\"\n",
    "    )\n",
    "    parser.add_argument(\"--image-width\", default=32, type=int, help=\"image width\")\n",
    "    parser.add_argument(\"--image-height\", default=32, type=int, help=\"image height\")\n",
    "    parser.add_argument(\"--batch-size\", default=16, type=int, help=\"mini-batch size\")\n",
    "    parser.add_argument(\n",
    "        \"--model-dir\",\n",
    "        default=os.getenv(\"AIP_MODEL_DIR\"),\n",
    "        type=str,\n",
    "        help=\"model directory\",\n",
    "    )\n",
    "    parser.add_argument(\"--data-dir\", default=\"./data\", type=str, help=\"data directory\")\n",
    "    parser.add_argument(\n",
    "        \"--test-run\",\n",
    "        default=False,\n",
    "        type=str2bool,\n",
    "        help=\"test run the training application, i.e. 1 epoch for training using sample dataset\",\n",
    "    )\n",
    "    parser.add_argument(\"--model-version\", default=1, type=int, help=\"model version\")\n",
    "    parser.add_argument(\n",
    "        \"--lr\", dest=\"lr\", default=0.01, type=float, help=\"Learning rate.\"\n",
    "    )\n",
    "    parser.add_argument(\n",
    "        \"--steps\",\n",
    "        dest=\"steps\",\n",
    "        default=200,\n",
    "        type=int,\n",
    "        help=\"Number of steps per epoch.\",\n",
    "    )\n",
    "    parser.add_argument(\n",
    "        \"--distribute\",\n",
    "        dest=\"distribute\",\n",
    "        type=str,\n",
    "        default=\"single\",\n",
    "        help=\"distributed training strategy\",\n",
    "    )\n",
    "\n",
    "    args = parser.parse_args()\n",
    "    return args\n",
    "\n",
    "\n",
    "args = parse_args()\n",
    "\n",
    "\n",
    "def parse_image(filename):\n",
    "    image = tf.io.read_file(filename)\n",
    "    image = tf.image.decode_jpeg(image, channels=3)\n",
    "    image = tf.image.resize(image, [args.image_width, args.image_height])\n",
    "    return image\n",
    "\n",
    "\n",
    "# Scaling image data from (0, 255] to (0., 1.]\n",
    "def scale(image, label):\n",
    "    image = tf.cast(image, tf.float32)\n",
    "    image /= 255.0\n",
    "    return image, label\n",
    "\n",
    "\n",
    "def load_aip_dataset(\n",
    "    aip_data_uri_pattern: str,\n",
    "    batch_size: int,\n",
    "    class_names: List[str],\n",
    "    test_run: bool,\n",
    "    shuffle=True,\n",
    "    repeat=False,\n",
    "    seed=42,\n",
    "):\n",
    "\n",
    "    data_file_urls = list()\n",
    "    labels = list()\n",
    "\n",
    "    class_indices = dict(zip(class_names, range(len(class_names))))\n",
    "    num_classes = len(class_names)\n",
    "\n",
    "    for aip_data_uri in tqdm.tqdm(tf.io.gfile.glob(pattern=aip_data_uri_pattern)):\n",
    "        with tf.io.gfile.GFile(name=aip_data_uri, mode=\"r\") as gfile:\n",
    "            for line in gfile.readlines():\n",
    "                line = json.loads(line)\n",
    "                data_file_urls.append(line[\"imageGcsUri\"])\n",
    "                classification_annotation = line[\"classificationAnnotations\"][0]\n",
    "                label = classification_annotation[\"displayName\"]\n",
    "                labels.append(class_indices[label])\n",
    "                if test_run:\n",
    "                    break\n",
    "\n",
    "    filenames_ds = tf.data.Dataset.from_tensor_slices(data_file_urls)\n",
    "    dataset = filenames_ds.map(\n",
    "        parse_image, num_parallel_calls=tf.data.experimental.AUTOTUNE\n",
    "    )\n",
    "\n",
    "    print(f\" data files count: {len(data_file_urls)}\")\n",
    "    print(f\" labels count: {len(labels)}\")\n",
    "\n",
    "    label_ds = tf.data.Dataset.from_tensor_slices(labels)\n",
    "    label_ds = label_ds.map(lambda x: tf.one_hot(x, num_classes))\n",
    "\n",
    "    dataset = tf.data.Dataset.zip((dataset, label_ds)).map(scale).cache()\n",
    "\n",
    "    if shuffle:\n",
    "        # Shuffle locally at each iteration\n",
    "        dataset = dataset.shuffle(buffer_size=batch_size * 8, seed=seed)\n",
    "\n",
    "    if repeat:\n",
    "        dataset = dataset.repeat()\n",
    "\n",
    "    dataset = dataset.batch(batch_size)\n",
    "    # Users may need to reference `class_names`.\n",
    "    dataset.class_names = class_names\n",
    "\n",
    "    return dataset\n",
    "\n",
    "\n",
    "class_names = [\"daisy\", \"dandelion\", \"roses\", \"sunflowers\", \"tulips\"]\n",
    "class_indices = dict(zip(class_names, range(len(class_names))))\n",
    "num_classes = len(class_names)\n",
    "print(f\" class names: {class_names}\")\n",
    "print(f\" class indices: {class_indices}\")\n",
    "print(f\" num classes: {num_classes}\")\n",
    "\n",
    "\n",
    "# Get strategy\n",
    "# Single Machine, single compute device\n",
    "if args.distribute == \"single\":\n",
    "    if tf.test.is_gpu_available():\n",
    "        strategy = tf.distribute.OneDeviceStrategy(device=\"/gpu:0\")\n",
    "    else:\n",
    "        strategy = tf.distribute.OneDeviceStrategy(device=\"/cpu:0\")\n",
    "# Single Machine, multiple compute device\n",
    "elif args.distribute == \"mirror\":\n",
    "    strategy = tf.distribute.MirroredStrategy()\n",
    "# Multiple Machine, multiple compute device\n",
    "elif args.distribute == \"multi\":\n",
    "    strategy = tf.distribute.experimental.MultiWorkerMirroredStrategy()\n",
    "\n",
    "# Multi-worker configuration\n",
    "print(\"num_replicas_in_sync = {}\".format(strategy.num_replicas_in_sync))\n",
    "\n",
    "NUM_WORKERS = strategy.num_replicas_in_sync\n",
    "# Here the batch size scales up by number of workers since\n",
    "# `tf.data.Dataset.batch` expects the global batch size.\n",
    "GLOBAL_BATCH_SIZE = args.batch_size * NUM_WORKERS\n",
    "\n",
    "aip_model_dir = os.environ.get(\"AIP_MODEL_DIR\")\n",
    "aip_data_format = os.environ.get(\"AIP_DATA_FORMAT\")\n",
    "aip_training_data_uri = os.environ.get(\"AIP_TRAINING_DATA_URI\")\n",
    "aip_validation_data_uri = os.environ.get(\"AIP_VALIDATION_DATA_URI\")\n",
    "# aip_test_data_uri = os.environ.get(\"AIP_TEST_DATA_URI\")\n",
    "\n",
    "print(f\"aip_model_dir: {aip_model_dir}\")\n",
    "print(f\"aip_data_format: {aip_data_format}\")\n",
    "print(f\"aip_training_data_uri: {aip_training_data_uri}\")\n",
    "print(f\"aip_validation_data_uri: {aip_validation_data_uri}\")\n",
    "# print(f\"aip_test_data_uri: {aip_test_data_uri}\")\n",
    "\n",
    "print(\"Loading AIP dataset\")\n",
    "train_ds = load_aip_dataset(\n",
    "    aip_training_data_uri,\n",
    "    GLOBAL_BATCH_SIZE,\n",
    "    class_names,\n",
    "    args.test_run,\n",
    "    shuffle=True,\n",
    "    repeat=True,\n",
    ")\n",
    "print(\"AIP training dataset is loaded\")\n",
    "val_ds = load_aip_dataset(aip_validation_data_uri, 1, class_names, args.test_run)\n",
    "print(\"AIP validation dataset is loaded\")\n",
    "# test_ds = load_aip_dataset(aip_test_data_uri, 1, class_names, args.test_run)\n",
    "# print(\"AIP test dataset is loaded\")\n",
    "\n",
    "tfds.disable_progress_bar()\n",
    "\n",
    "print(\"Python Version = {}\".format(sys.version))\n",
    "print(\"TensorFlow Version = {}\".format(tf.__version__))\n",
    "print(\"TF_CONFIG = {}\".format(os.environ.get(\"TF_CONFIG\", \"Not found\")))\n",
    "print(\"DEVICES\", device_lib.list_local_devices())\n",
    "\n",
    "# Build the Keras model\n",
    "def build_and_compile_cnn_model(num_classes: int, image_width: int, image_height: int):\n",
    "    model = tf.keras.Sequential(\n",
    "        [\n",
    "            tf.keras.layers.Conv2D(\n",
    "                32, 3, activation=\"relu\", input_shape=(image_width, image_height, 3)\n",
    "            ),\n",
    "            tf.keras.layers.MaxPooling2D(),\n",
    "            tf.keras.layers.Conv2D(32, 3, activation=\"relu\"),\n",
    "            tf.keras.layers.MaxPooling2D(),\n",
    "            tf.keras.layers.Flatten(),\n",
    "            tf.keras.layers.Dense(num_classes, activation=\"softmax\"),\n",
    "        ]\n",
    "    )\n",
    "    model.compile(\n",
    "        loss=tf.keras.losses.categorical_crossentropy,\n",
    "        optimizer=tf.keras.optimizers.SGD(learning_rate=args.lr),\n",
    "        metrics=[\"accuracy\"],\n",
    "    )\n",
    "    return model\n",
    "\n",
    "# Train the model\n",
    "model_dir = os.getenv(\"AIP_MODEL_DIR\")\n",
    "\n",
    "with strategy.scope():\n",
    "    # Creation of dataset, and model building/compiling need to be within\n",
    "    # `strategy.scope()`.\n",
    "    model = build_and_compile_cnn_model(\n",
    "        num_classes=num_classes,\n",
    "        image_width=args.image_width,\n",
    "        image_height=args.image_height,\n",
    "    )\n",
    "\n",
    "model.fit(\n",
    "    x=train_ds, epochs=args.epochs, validation_data=val_ds, steps_per_epoch=args.steps\n",
    ")\n",
    "\n",
    "print(\"Saving to:\" + model_dir)\n",
    "if model_dir:\n",
    "    model.save(model_dir)"
   ]
  },
  {
   "cell_type": "code",
   "execution_count": 11,
   "metadata": {},
   "outputs": [],
   "source": [
    "# model_dir"
   ]
  },
  {
   "cell_type": "code",
   "execution_count": 12,
   "metadata": {},
   "outputs": [],
   "source": [
    "model_dir = './'"
   ]
  },
  {
   "cell_type": "code",
   "execution_count": 13,
   "metadata": {},
   "outputs": [
    {
     "name": "stdout",
     "output_type": "stream",
     "text": [
      "'Untitled Folder'\t\t   image_recognition.ipynb\n",
      " Untitled.ipynb\t\t\t   intro_pipeline_job.json\n",
      " Vertex_pipeline.ipynb\t\t  'myfile (1).zip'\n",
      " all_data_v2.csv\t\t   onnx-tensorflow\n",
      " auto_ml_prediction_images.jsonl   src\n",
      " custom_image\t\t\t   task.py\n",
      " custom_ml_prediction_images.txt   tutorials\n",
      " first-component.yaml\t\t   veretxai-demo-ce-apac-repo\n",
      " image_classif_pipeline.json\n"
     ]
    }
   ],
   "source": [
    "!ls"
   ]
  },
  {
   "cell_type": "code",
   "execution_count": 14,
   "metadata": {},
   "outputs": [
    {
     "name": "stdout",
     "output_type": "stream",
     "text": [
      "INFO:google.cloud.aiplatform.utils.source_utils:Training script copied to:\n",
      "gs://veretxai_image_recognition/pipeline_root/saurabhmangal/aiplatform-2022-08-02-02:33:58.282-aiplatform_custom_trainer_script-0.1.tar.gz.\n"
     ]
    }
   ],
   "source": [
    "# Define dependencies, package task.py into a python package, and upload to Google Cloud \n",
    "PROJECT_ID = \"veretxai-demo-ce-apac\"\n",
    "DEPENDENCIES = [\"tqdm\", \"tensorflow_datasets==1.3.0\"]\n",
    "PYTHON_MODULE_NAME = f\"{source_utils._TrainingScriptPythonPackager._ROOT_MODULE}.{source_utils._TrainingScriptPythonPackager.module_name}\"\n",
    "\n",
    "python_packager = source_utils._TrainingScriptPythonPackager(\n",
    "    script_path='task.py', requirements=DEPENDENCIES\n",
    ")\n",
    "\n",
    "PACKAGE_GCS_URI = python_packager.package_and_copy_to_gcs(\n",
    "    gcs_staging_dir=PIPELINE_ROOT,\n",
    "    project=PROJECT_ID\n",
    ")"
   ]
  },
  {
   "cell_type": "code",
   "execution_count": 16,
   "metadata": {},
   "outputs": [],
   "source": [
    "# Define the container images for custom training and online and batch prediction\n",
    "TRAIN_VERSION = \"tf-gpu.2-1\"\n",
    "TRAIN_IMAGE = \"gcr.io/cloud-aiplatform/training/{}:latest\".format(TRAIN_VERSION)\n",
    "\n",
    "DEPLOY_VERSION = \"tf2-gpu.2-1\"\n",
    "DEPLOY_IMAGE = \"gcr.io/cloud-aiplatform/prediction/{}:latest\".format(DEPLOY_VERSION)"
   ]
  },
  {
   "cell_type": "markdown",
   "metadata": {},
   "source": [
    "## Prepare data to be used in our Prediction Tasks (AutoML and CustomML)"
   ]
  },
  {
   "cell_type": "code",
   "execution_count": 17,
   "metadata": {},
   "outputs": [],
   "source": [
    "# Let's select a subset of our training data\n",
    "# The data is available from an open Google Cloud bucket, \"cloud-ml-data\"\n",
    "# To simulate the Batch Prediction task, we take a few images from that dataset\n",
    "batch_prediction_dataset_list = [\n",
    "    \"gs://cloud-ml-data/img/flower_photos/daisy/9595857626_979c45e5bf_n.jpg\",\n",
    "    \"gs://cloud-ml-data/img/flower_photos/daisy/9611923744_013b29e4da_n.jpg\",\n",
    "    \"gs://cloud-ml-data/img/flower_photos/daisy/9922116524_ab4a2533fe_n.jpg\",\n",
    "    \"gs://cloud-ml-data/img/flower_photos/daisy/99306615_739eb94b9e_m.jpg\",\n",
    "    \"gs://cloud-ml-data/img/flower_photos/dandelion/10043234166_e6dd915111_n.jpg\",\n",
    "    \"gs://cloud-ml-data/img/flower_photos/dandelion/10200780773_c6051a7d71_n.jpg\",\n",
    "    \"gs://cloud-ml-data/img/flower_photos/dandelion/10294487385_92a0676c7d_m.jpg\",\n",
    "    \"gs://cloud-ml-data/img/flower_photos/roses/15190665092_5c1c37a066_m.jpg\",\n",
    "    \"gs://cloud-ml-data/img/flower_photos/roses/15202632426_d88efb321a_n.jpg\",\n",
    "    \"gs://cloud-ml-data/img/flower_photos/roses/15222804561_0fde5eb4ae_n.jpg\",\n",
    "    \"gs://cloud-ml-data/img/flower_photos/roses/15236835789_6009b8f33d.jpg\",\n",
    "    \"gs://cloud-ml-data/img/flower_photos/roses/15255964274_cf2ecdf702.jpg\",\n",
    "    \"gs://cloud-ml-data/img/flower_photos/sunflowers/18828283553_e46504ae38.jpg\",\n",
    "    \"gs://cloud-ml-data/img/flower_photos/sunflowers/18843967474_9cb552716b.jpg\",\n",
    "    \"gs://cloud-ml-data/img/flower_photos/sunflowers/18972803569_1a0634f398_m.jpg\",\n",
    "    \"gs://cloud-ml-data/img/flower_photos/sunflowers/19349582128_68a662075e_n.jpg\",\n",
    "    \"gs://cloud-ml-data/img/flower_photos/sunflowers/19359539074_d7e32e6616_n.jpg\",\n",
    "    \"gs://cloud-ml-data/img/flower_photos/sunflowers/18828283553_e46504ae38.jpg\",\n",
    "    \"gs://cloud-ml-data/img/flower_photos/sunflowers/18843967474_9cb552716b.jpg\",\n",
    "    \"gs://cloud-ml-data/img/flower_photos/sunflowers/18972803569_1a0634f398_m.jpg\",\n",
    "    \"gs://cloud-ml-data/img/flower_photos/sunflowers/19349582128_68a662075e_n.jpg\",\n",
    "    \"gs://cloud-ml-data/img/flower_photos/sunflowers/19359539074_d7e32e6616_n.jpg\",\n",
    "    \"gs://cloud-ml-data/img/flower_photos/tulips/5680695867_baff72fc7c.jpg\",\n",
    "    \"gs://cloud-ml-data/img/flower_photos/tulips/5682463466_d3e641cb8b.jpg\",\n",
    "    \"gs://cloud-ml-data/img/flower_photos/tulips/5687705933_55a8c2dbac.jpg\",\n",
    "    \"gs://cloud-ml-data/img/flower_photos/tulips/5691090657_2f1e9bf49e_n.jpg\",\n",
    "    \"gs://cloud-ml-data/img/flower_photos/tulips/5691100579_4a2767360a.jpg\"\n",
    "]"
   ]
  },
  {
   "cell_type": "code",
   "execution_count": 19,
   "metadata": {},
   "outputs": [],
   "source": [
    "import os"
   ]
  },
  {
   "cell_type": "code",
   "execution_count": 20,
   "metadata": {},
   "outputs": [],
   "source": [
    "# Let's copy the dataset to a bucket we own, called BUCKET_NAME\n",
    "from google.cloud import storage\n",
    "from urllib.parse import urlparse, ParseResult\n",
    "\n",
    "def move_blob(bucket_name, blob_name, destination_bucket_name, destination_blob_name):\n",
    "    storage_client = storage.Client()\n",
    "    source_bucket = storage_client.bucket(bucket_name)\n",
    "    source_blob = source_bucket.blob(blob_name)\n",
    "    destination_bucket = storage_client.bucket(destination_bucket_name)\n",
    "    source_bucket.copy_blob(source_blob, destination_bucket, destination_blob_name)\n",
    "\n",
    "for dataset in batch_prediction_dataset_list:\n",
    "    url_parse = urlparse(dataset, allow_fragments=False)\n",
    "    move_blob(bucket_name = os.path.basename(url_parse.netloc),\n",
    "              blob_name = url_parse.path[1:], \n",
    "              destination_bucket_name = BUCKET_NAME[5:], \n",
    "              destination_blob_name = \"batch_prediction_dataset/\"+os.path.basename(url_parse.path))"
   ]
  },
  {
   "cell_type": "code",
   "execution_count": 21,
   "metadata": {},
   "outputs": [
    {
     "data": {
      "text/plain": [
       "['gs://veretxai_image_recognition/batch_prediction_dataset/9595857626_979c45e5bf_n.jpg',\n",
       " 'gs://veretxai_image_recognition/batch_prediction_dataset/9611923744_013b29e4da_n.jpg',\n",
       " 'gs://veretxai_image_recognition/batch_prediction_dataset/9922116524_ab4a2533fe_n.jpg',\n",
       " 'gs://veretxai_image_recognition/batch_prediction_dataset/99306615_739eb94b9e_m.jpg',\n",
       " 'gs://veretxai_image_recognition/batch_prediction_dataset/10043234166_e6dd915111_n.jpg',\n",
       " 'gs://veretxai_image_recognition/batch_prediction_dataset/10200780773_c6051a7d71_n.jpg',\n",
       " 'gs://veretxai_image_recognition/batch_prediction_dataset/10294487385_92a0676c7d_m.jpg',\n",
       " 'gs://veretxai_image_recognition/batch_prediction_dataset/15190665092_5c1c37a066_m.jpg',\n",
       " 'gs://veretxai_image_recognition/batch_prediction_dataset/15202632426_d88efb321a_n.jpg',\n",
       " 'gs://veretxai_image_recognition/batch_prediction_dataset/15222804561_0fde5eb4ae_n.jpg',\n",
       " 'gs://veretxai_image_recognition/batch_prediction_dataset/15236835789_6009b8f33d.jpg',\n",
       " 'gs://veretxai_image_recognition/batch_prediction_dataset/15255964274_cf2ecdf702.jpg',\n",
       " 'gs://veretxai_image_recognition/batch_prediction_dataset/18828283553_e46504ae38.jpg',\n",
       " 'gs://veretxai_image_recognition/batch_prediction_dataset/18843967474_9cb552716b.jpg',\n",
       " 'gs://veretxai_image_recognition/batch_prediction_dataset/18972803569_1a0634f398_m.jpg',\n",
       " 'gs://veretxai_image_recognition/batch_prediction_dataset/19349582128_68a662075e_n.jpg',\n",
       " 'gs://veretxai_image_recognition/batch_prediction_dataset/19359539074_d7e32e6616_n.jpg',\n",
       " 'gs://veretxai_image_recognition/batch_prediction_dataset/18828283553_e46504ae38.jpg',\n",
       " 'gs://veretxai_image_recognition/batch_prediction_dataset/18843967474_9cb552716b.jpg',\n",
       " 'gs://veretxai_image_recognition/batch_prediction_dataset/18972803569_1a0634f398_m.jpg',\n",
       " 'gs://veretxai_image_recognition/batch_prediction_dataset/19349582128_68a662075e_n.jpg',\n",
       " 'gs://veretxai_image_recognition/batch_prediction_dataset/19359539074_d7e32e6616_n.jpg',\n",
       " 'gs://veretxai_image_recognition/batch_prediction_dataset/5680695867_baff72fc7c.jpg',\n",
       " 'gs://veretxai_image_recognition/batch_prediction_dataset/5682463466_d3e641cb8b.jpg',\n",
       " 'gs://veretxai_image_recognition/batch_prediction_dataset/5687705933_55a8c2dbac.jpg',\n",
       " 'gs://veretxai_image_recognition/batch_prediction_dataset/5691090657_2f1e9bf49e_n.jpg',\n",
       " 'gs://veretxai_image_recognition/batch_prediction_dataset/5691100579_4a2767360a.jpg']"
      ]
     },
     "execution_count": 21,
     "metadata": {},
     "output_type": "execute_result"
    }
   ],
   "source": [
    "# Create a list that contains our new GCS links, pointing to the images in the Bucket we own\n",
    "batch_prediction_dataset_list = [\"gs://\"+BUCKET_NAME[5:]+\"/batch_prediction_dataset/\"+os.path.basename(urlparse(item, allow_fragments=False).path) for item in batch_prediction_dataset_list]\n",
    "batch_prediction_dataset_list"
   ]
  },
  {
   "cell_type": "code",
   "execution_count": 22,
   "metadata": {},
   "outputs": [],
   "source": [
    "# We need to create a file that points to the image links above\n",
    "# For AutoML Batch Prediction, the input request needs to be in a .JSONL in the following format:\n",
    "# {\"content\": \"gs://sourcebucket/datasets/images/source_image.jpg\", \"mimeType\": \"image/jpeg\"}\n",
    "\n",
    "# Build a JSON-like object\n",
    "import json\n",
    "\n",
    "auto_ml_prediction_images = []\n",
    "for file in batch_prediction_dataset_list:\n",
    "    auto_ml_prediction_image = {}\n",
    "    auto_ml_prediction_image[\"content\"] = file\n",
    "    auto_ml_prediction_image[\"mimeType\"] = \"image/jpeg\"\n",
    "    auto_ml_prediction_images.append(auto_ml_prediction_image)"
   ]
  },
  {
   "cell_type": "code",
   "execution_count": 23,
   "metadata": {},
   "outputs": [],
   "source": [
    "# Write as JSONL to disk (not, that's NOT JSON)\n",
    "with open('auto_ml_prediction_images.jsonl', 'w') as outfile:\n",
    "    for entry in auto_ml_prediction_images:\n",
    "        json.dump(entry, outfile)\n",
    "        outfile.write('\\n')"
   ]
  },
  {
   "cell_type": "code",
   "execution_count": 24,
   "metadata": {},
   "outputs": [
    {
     "name": "stdout",
     "output_type": "stream",
     "text": [
      "{\"content\": \"gs://veretxai_image_recognition/batch_prediction_dataset/9595857626_979c45e5bf_n.jpg\", \"mimeType\": \"image/jpeg\"}\n",
      "{\"content\": \"gs://veretxai_image_recognition/batch_prediction_dataset/9611923744_013b29e4da_n.jpg\", \"mimeType\": \"image/jpeg\"}\n",
      "{\"content\": \"gs://veretxai_image_recognition/batch_prediction_dataset/9922116524_ab4a2533fe_n.jpg\", \"mimeType\": \"image/jpeg\"}\n",
      "{\"content\": \"gs://veretxai_image_recognition/batch_prediction_dataset/99306615_739eb94b9e_m.jpg\", \"mimeType\": \"image/jpeg\"}\n",
      "{\"content\": \"gs://veretxai_image_recognition/batch_prediction_dataset/10043234166_e6dd915111_n.jpg\", \"mimeType\": \"image/jpeg\"}\n",
      "{\"content\": \"gs://veretxai_image_recognition/batch_prediction_dataset/10200780773_c6051a7d71_n.jpg\", \"mimeType\": \"image/jpeg\"}\n",
      "{\"content\": \"gs://veretxai_image_recognition/batch_prediction_dataset/10294487385_92a0676c7d_m.jpg\", \"mimeType\": \"image/jpeg\"}\n",
      "{\"content\": \"gs://veretxai_image_recognition/batch_prediction_dataset/15190665092_5c1c37a066_m.jpg\", \"mimeType\": \"image/jpeg\"}\n",
      "{\"content\": \"gs://veretxai_image_recognition/batch_prediction_dataset/15202632426_d88efb321a_n.jpg\", \"mimeType\": \"image/jpeg\"}\n",
      "{\"content\": \"gs://veretxai_image_recognition/batch_prediction_dataset/15222804561_0fde5eb4ae_n.jpg\", \"mimeType\": \"image/jpeg\"}\n"
     ]
    }
   ],
   "source": [
    "!head 'auto_ml_prediction_images.jsonl'"
   ]
  },
  {
   "cell_type": "code",
   "execution_count": 25,
   "metadata": {},
   "outputs": [
    {
     "data": {
      "text/plain": [
       "'gs://veretxai_image_recognition/auto_ml_prediction_images.jsonl'"
      ]
     },
     "execution_count": 25,
     "metadata": {},
     "output_type": "execute_result"
    }
   ],
   "source": [
    "# Upload to GCS\n",
    "def upload_blob(bucket_name, source_file_name, destination_blob_name):\n",
    "    storage.Client().bucket(bucket_name).blob(source_file_name).upload_from_filename(destination_blob_name)\n",
    "upload_blob(BUCKET_NAME[5:], 'auto_ml_prediction_images.jsonl', 'auto_ml_prediction_images.jsonl')\n",
    "auto_ml_prediction_data_object = BUCKET_NAME+\"/auto_ml_prediction_images.jsonl\"\n",
    "auto_ml_prediction_data_object"
   ]
  },
  {
   "cell_type": "code",
   "execution_count": 26,
   "metadata": {},
   "outputs": [],
   "source": [
    "# For Custom Training Batch Prediction, the input format is a .TXT file as follows:\n",
    "# gs://formoso_image_detection/batch_prediction_dataset/5682463466_d3e641cb8b.jpg\n",
    "# gs://formoso_image_detection/batch_prediction_dataset/5687705933_55a8c2dbac.jpg\n",
    "# gs://formoso_image_detection/batch_prediction_dataset/5691090657_2f1e9bf49e_n.jpg\n",
    "\n",
    "# Build a TXT-like object\n",
    "\n",
    "with open('custom_ml_prediction_images.txt', 'w') as outfile:\n",
    "    for entry in batch_prediction_dataset_list:\n",
    "        outfile.write(entry+'\\n')"
   ]
  },
  {
   "cell_type": "code",
   "execution_count": 27,
   "metadata": {},
   "outputs": [
    {
     "name": "stdout",
     "output_type": "stream",
     "text": [
      "gs://veretxai_image_recognition/batch_prediction_dataset/9595857626_979c45e5bf_n.jpg\n",
      "gs://veretxai_image_recognition/batch_prediction_dataset/9611923744_013b29e4da_n.jpg\n",
      "gs://veretxai_image_recognition/batch_prediction_dataset/9922116524_ab4a2533fe_n.jpg\n",
      "gs://veretxai_image_recognition/batch_prediction_dataset/99306615_739eb94b9e_m.jpg\n",
      "gs://veretxai_image_recognition/batch_prediction_dataset/10043234166_e6dd915111_n.jpg\n",
      "gs://veretxai_image_recognition/batch_prediction_dataset/10200780773_c6051a7d71_n.jpg\n",
      "gs://veretxai_image_recognition/batch_prediction_dataset/10294487385_92a0676c7d_m.jpg\n",
      "gs://veretxai_image_recognition/batch_prediction_dataset/15190665092_5c1c37a066_m.jpg\n",
      "gs://veretxai_image_recognition/batch_prediction_dataset/15202632426_d88efb321a_n.jpg\n",
      "gs://veretxai_image_recognition/batch_prediction_dataset/15222804561_0fde5eb4ae_n.jpg\n"
     ]
    }
   ],
   "source": [
    "!head \"custom_ml_prediction_images.txt\""
   ]
  },
  {
   "cell_type": "code",
   "execution_count": 28,
   "metadata": {},
   "outputs": [
    {
     "data": {
      "text/plain": [
       "'gs://veretxai_image_recognition/custom_ml_prediction_images.txt'"
      ]
     },
     "execution_count": 28,
     "metadata": {},
     "output_type": "execute_result"
    }
   ],
   "source": [
    "# Upload to GCS\n",
    "def upload_blob(bucket_name, source_file_name, destination_blob_name):\n",
    "    storage.Client().bucket(bucket_name).blob(source_file_name).upload_from_filename(destination_blob_name)\n",
    "upload_blob(BUCKET_NAME[5:], 'custom_ml_prediction_images.txt', 'custom_ml_prediction_images.txt')\n",
    "custom_ml_prediction_data_object = BUCKET_NAME+\"/custom_ml_prediction_images.txt\"\n",
    "custom_ml_prediction_data_object"
   ]
  },
  {
   "cell_type": "markdown",
   "metadata": {
    "id": "Z4MjdglUT3Sw"
   },
   "source": [
    "## Define an Image classification pipeline that uses components from `google_cloud_pipeline_components`"
   ]
  },
  {
   "cell_type": "markdown",
   "metadata": {
    "id": "Pf0pugbvftD1"
   },
   "source": [
    "Create a managed image dataset from a CSV file and train it using AutoML Image Training.\n"
   ]
  },
  {
   "cell_type": "markdown",
   "metadata": {
    "id": "2fjGiImBezMo"
   },
   "source": [
    "Define the pipeline:"
   ]
  },
  {
   "cell_type": "code",
   "execution_count": 29,
   "metadata": {
    "id": "vEEr62NUftD1"
   },
   "outputs": [],
   "source": [
    "@kfp.dsl.pipeline(name=\"image-detection-run-1\")\n",
    "def pipeline(project: str = PROJECT_ID):\n",
    "    \n",
    "    create_dataset_op = gcc_aip.ImageDatasetCreateOp(\n",
    "        project=project,\n",
    "        display_name=\"flowers\",\n",
    "        gcs_source=\"gs://cloud-samples-data/vision/automl_classification/flowers/all_data_v2.csv\",\n",
    "        import_schema_uri=aiplatform.schema.dataset.ioformat.image.single_label_classification,\n",
    "    )\n",
    "        \n",
    "    auto_ml_training_job_run_op = gcc_aip.AutoMLImageTrainingJobRunOp(\n",
    "        project=project,\n",
    "        display_name=\"train-iris-automl-mbsdk-1\",\n",
    "        prediction_type=\"classification\",\n",
    "        model_type=\"CLOUD\",\n",
    "        base_model=None,\n",
    "        dataset=create_dataset_op.outputs[\"dataset\"],\n",
    "        model_display_name=\"iris-classification-model-mbsdk\",\n",
    "        training_fraction_split=0.6,\n",
    "        validation_fraction_split=0.2,\n",
    "        test_fraction_split=0.2,\n",
    "        budget_milli_node_hours=8000,\n",
    "    )\n",
    "        \n",
    "    auto_ml_endpoint_op = gcc_aip.ModelDeployOp(\n",
    "        #project=project, \n",
    "        model=auto_ml_training_job_run_op.outputs[\"model\"]\n",
    "    )\n",
    "    \n",
    "    auto_ml_batch_predict_op = gcc_aip.ModelBatchPredictOp(\n",
    "        project=project,\n",
    "        model=auto_ml_training_job_run_op.outputs[\"model\"],\n",
    "        job_display_name=\"auto_ml_batch_predict_op\"\n",
    "        #,\n",
    "        #gcs_source=auto_ml_prediction_data_object,\n",
    "        #gcs_destination_prefix=PIPELINE_ROOT\n",
    "    )\n",
    "\n",
    "    custom_training_job_run_op = gcc_aip.CustomPythonPackageTrainingJobRunOp(\n",
    "        project=project,\n",
    "        display_name='custom_training_job_run_op',\n",
    "        dataset=create_dataset_op.outputs[\"dataset\"],\n",
    "        python_package_gcs_uri = PACKAGE_GCS_URI,\n",
    "        python_module_name = PYTHON_MODULE_NAME,\n",
    "        # Training\n",
    "        container_uri = TRAIN_IMAGE,\n",
    "        staging_bucket=PIPELINE_ROOT,\n",
    "        annotation_schema_uri=aiplatform.schema.dataset.annotation.image.classification,\n",
    "        args=[\"--epochs\", \"50\", \"--image-width\", \"32\", \"--image-height\", \"32\"],\n",
    "        replica_count=1,\n",
    "        machine_type=\"n1-standard-4\",\n",
    "        accelerator_type=\"NVIDIA_TESLA_K80\",\n",
    "        accelerator_count=1,\n",
    "        # Serving - As part of this operation, the model is registered to Vertex AI\n",
    "        model_serving_container_image_uri = DEPLOY_IMAGE,\n",
    "        model_display_name = 'custom_model_image_detection'\n",
    "    )\n",
    "\n",
    "\n",
    "    custom_endpoint_op = gcc_aip.ModelDeployOp(\n",
    "        #project=project,\n",
    "        deployed_model_display_name='custom_deployed_model_image_detection',\n",
    "        #machine_type=\"n1-standard-4\",\n",
    "        #accelerator_type=\"NVIDIA_TESLA_K80\",\n",
    "        #accelerator_count=1,\n",
    "        model=custom_training_job_run_op.outputs[\"model\"]\n",
    "    )\n",
    "\n",
    "    \n",
    "    custom_ml_batch_predict_op = gcc_aip.ModelBatchPredictOp(\n",
    "        project=project,\n",
    "        model=custom_training_job_run_op.outputs[\"model\"],\n",
    "        job_display_name=\"custom_ml_batch_predict_op\",\n",
    "        #gcs_source=custom_ml_prediction_data_object,\n",
    "        machine_type=\"n1-standard-4\",\n",
    "        accelerator_type=\"NVIDIA_TESLA_K80\",\n",
    "        accelerator_count=1\n",
    "        #,\n",
    "        #gcs_destination_prefix=PIPELINE_ROOT\n",
    "    )\n"
   ]
  },
  {
   "cell_type": "markdown",
   "metadata": {
    "id": "2Hl1iYEKSzjP"
   },
   "source": [
    "## Compile and run the pipeline\n",
    "\n",
    "Compile the pipeline:"
   ]
  },
  {
   "cell_type": "code",
   "execution_count": 30,
   "metadata": {
    "id": "ycRc83B6bbfO"
   },
   "outputs": [
    {
     "name": "stderr",
     "output_type": "stream",
     "text": [
      "/home/jupyter/.local/lib/python3.7/site-packages/kfp/v2/compiler/compiler.py:1266: FutureWarning: APIs imported from the v1 namespace (e.g. kfp.dsl, kfp.components, etc) will not be supported by the v2 compiler since v2.0.0\n",
      "  category=FutureWarning,\n"
     ]
    }
   ],
   "source": [
    "from kfp.v2 import compiler  # noqa: F811\n",
    "\n",
    "compiler.Compiler().compile(\n",
    "    pipeline_func=pipeline, package_path=\"image_classif_pipeline.json\"\n",
    ")"
   ]
  },
  {
   "cell_type": "markdown",
   "metadata": {
    "id": "qfNuzFswBB4g",
    "tags": []
   },
   "source": [
    "The pipeline compilation generates the `image_classif_pipeline.json` job spec file.\n",
    "\n",
    "Next, instantiate an API client object:"
   ]
  },
  {
   "cell_type": "code",
   "execution_count": 31,
   "metadata": {
    "id": "Hl5Q74_gkW2c"
   },
   "outputs": [
    {
     "name": "stderr",
     "output_type": "stream",
     "text": [
      "/home/jupyter/.local/lib/python3.7/site-packages/kfp/v2/google/client/client.py:173: FutureWarning: AIPlatformClient will be deprecated in v2.0.0. Please use PipelineJob https://googleapis.dev/python/aiplatform/latest/_modules/google/cloud/aiplatform/pipeline_jobs.html in Vertex SDK. Install the SDK using \"pip install google-cloud-aiplatform\"\n",
      "  category=FutureWarning,\n"
     ]
    }
   ],
   "source": [
    "from kfp.v2.google.client import AIPlatformClient  # noqa: F811\n",
    "\n",
    "api_client = AIPlatformClient(project_id=PROJECT_ID, region=REGION)"
   ]
  },
  {
   "cell_type": "markdown",
   "metadata": {
    "id": "_jrn6saiQsPh"
   },
   "source": [
    "Then, you run the defined pipeline like this: "
   ]
  },
  {
   "cell_type": "code",
   "execution_count": 32,
   "metadata": {
    "id": "R4Ha4FoDQpkd"
   },
   "outputs": [
    {
     "data": {
      "text/html": [
       "See the Pipeline job <a href=\"https://console.cloud.google.com/vertex-ai/locations/us-central1/pipelines/runs/image-detection-run-1-20220802023613?project=veretxai-demo-ce-apac\" target=\"_blank\" >here</a>."
      ],
      "text/plain": [
       "<IPython.core.display.HTML object>"
      ]
     },
     "metadata": {},
     "output_type": "display_data"
    }
   ],
   "source": [
    "response = api_client.create_run_from_job_spec(\n",
    "    \"image_classif_pipeline.json\",\n",
    "    pipeline_root=PIPELINE_ROOT,\n",
    "    parameter_values={\"project\": PROJECT_ID},\n",
    ")"
   ]
  },
  {
   "cell_type": "markdown",
   "metadata": {
    "id": "p9_qWdh83C1N"
   },
   "source": [
    "## Cleaning up\n",
    "\n",
    "To clean up all Google Cloud resources used in this project, you can [delete the Google Cloud\n",
    "project](https://cloud.google.com/resource-manager/docs/creating-managing-projects#shutting_down_projects) you used for the tutorial.\n",
    "\n",
    "Otherwise, you can delete the individual resources you created in this tutorial:\n",
    "- Delete Cloud Storage objects that were created.  Uncomment and run the command in the cell below **only if you are not using the `PIPELINE_ROOT` path for any other purpose**.\n",
    "- Delete your deployed model: first, undeploy it from its *endpoint*, then delete the model and endpoint.\n"
   ]
  },
  {
   "cell_type": "code",
   "execution_count": null,
   "metadata": {
    "id": "3AEwz0T63C1O"
   },
   "outputs": [],
   "source": [
    "# Warning: this command will delete ALL Cloud Storage objects under the PIPELINE_ROOT path.\n",
    "# ! gsutil -m rm -r $PIPELINE_ROOT"
   ]
  }
 ],
 "metadata": {
  "colab": {
   "collapsed_sections": [],
   "name": "google-cloud-pipeline-components_automl_images.ipynb",
   "toc_visible": true
  },
  "environment": {
   "kernel": "python3",
   "name": "tf2-gpu.2-3.m86",
   "type": "gcloud",
   "uri": "gcr.io/deeplearning-platform-release/tf2-gpu.2-3:m86"
  },
  "kernelspec": {
   "display_name": "Python 3",
   "language": "python",
   "name": "python3"
  },
  "language_info": {
   "codemirror_mode": {
    "name": "ipython",
    "version": 3
   },
   "file_extension": ".py",
   "mimetype": "text/x-python",
   "name": "python",
   "nbconvert_exporter": "python",
   "pygments_lexer": "ipython3",
   "version": "3.7.12"
  }
 },
 "nbformat": 4,
 "nbformat_minor": 4
}
